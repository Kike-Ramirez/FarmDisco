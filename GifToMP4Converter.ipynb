{
  "cells": [
    {
      "cell_type": "markdown",
      "metadata": {
        "id": "view-in-github",
        "colab_type": "text"
      },
      "source": [
        "<a href=\"https://colab.research.google.com/github/Kike-Ramirez/FarmDisco/blob/main/GifToMP4Converter.ipynb\" target=\"_parent\"><img src=\"https://colab.research.google.com/assets/colab-badge.svg\" alt=\"Open In Colab\"/></a>"
      ]
    },
    {
      "cell_type": "markdown",
      "metadata": {
        "id": "wlARSYHGHgev"
      },
      "source": [
        "Convert GIF files into MP4.\n",
        "\n",
        "\n",
        "### **Let's start!**"
      ]
    },
    {
      "cell_type": "markdown",
      "metadata": {
        "id": "F3t-jsyrtl7w"
      },
      "source": [
        "## 1. Preparation"
      ]
    },
    {
      "cell_type": "code",
      "execution_count": null,
      "metadata": {
        "id": "_bSs8bFUh_US",
        "colab": {
          "base_uri": "https://localhost:8080/"
        },
        "outputId": "25f9b143-607a-4a13-8255-b168e35d85fb"
      },
      "outputs": [
        {
          "output_type": "stream",
          "name": "stdout",
          "text": [
            "Mounted at /content/drive\n"
          ]
        }
      ],
      "source": [
        "import moviepy.editor as mp\n",
        "import os\n",
        "import sys\n",
        "import shutil\n",
        "from google.colab import files\n",
        "\n",
        "from google.colab import drive\n",
        "drive.mount('/content/drive')\n",
        "\n",
        "from IPython.display import clear_output"
      ]
    },
    {
      "cell_type": "code",
      "source": [
        "# @title 2. Seleccionar carpeta de trabajo en Drive\n",
        "\n",
        "files_in_drive = True # @param {type:\"boolean\"}\n",
        "\n",
        "if files_in_drive:\n",
        "  input_folder = \"/content/drive/MyDrive/The Farm/Farm_Seohyowork\" # @param {type:\"string\"}\n",
        "  output_folder = \"/content/drive/MyDrive/The Farm/Farm_Seohyowork/mp4\" # @param {type:\"string\"}\n",
        "  if not os.path.exists(input_folder):\n",
        "    print('ERROR: Carpeta no existe!!')\n",
        "    exit()\n",
        "  if not os.path.exists(output_folder):\n",
        "    os.makedirs(output_folder)\n",
        "else:\n",
        "  input_folder = 'demo/gif2mp4converter/colab/input'\n",
        "  if os.path.exists(input_folder):\n",
        "    shutil.rmtree(input_folder)\n",
        "  os.makedirs(input_folder)\n",
        "\n",
        "  output_folder = 'demo/gif2mp4converter/colab/output'\n",
        "  if os.path.exists(output_folder):\n",
        "    shutil.rmtree(output_folder)\n",
        "  os.makedirs(output_folder)\n",
        "\n",
        "  # upload animations (GIF)\n",
        "  gif_names = list(files.upload().keys())\n",
        "  for gif_name in gif_names:\n",
        "    shutil.move(gif_name, os.path.join(input_folder, gif_name))\n"
      ],
      "metadata": {
        "id": "TMyyEiMLVZqS",
        "cellView": "form"
      },
      "execution_count": null,
      "outputs": []
    },
    {
      "cell_type": "markdown",
      "metadata": {
        "id": "CwGwwojKu_en"
      },
      "source": [
        "## 3. Convert to MP4"
      ]
    },
    {
      "cell_type": "code",
      "execution_count": null,
      "metadata": {
        "colab": {
          "base_uri": "https://localhost:8080/"
        },
        "id": "JOmYOHKfgQ5Y",
        "outputId": "4341e9f6-427f-461b-e224-2240b91ff3d5"
      },
      "outputs": [
        {
          "output_type": "stream",
          "name": "stdout",
          "text": [
            "\n",
            "\n",
            "===> Conversion finished \n",
            "\n",
            "===>  0  files converted.\n"
          ]
        }
      ],
      "source": [
        "### Convirtiendo GIFs en MP4\n",
        "\n",
        "gif_names = os.listdir(input_folder)\n",
        "total_files = len(gif_names);\n",
        "total_done = 0;\n",
        "for gif_name in gif_names:\n",
        "  gif_name_splitted = gif_name.split('.')\n",
        "  if ((len(gif_name_splitted) > 1) and (gif_name_splitted[1] == 'gif')):\n",
        "    clear_output()\n",
        "    progress_percent = float(total_done * 100) / float(total_files)\n",
        "    print('\\n')\n",
        "    print('### Step ', total_done + 1, ' --- ', progress_percent, '% --- Converting: ', gif_name, '\\n')\n",
        "    clip = mp.VideoFileClip(os.path.join(input_folder, gif_name))\n",
        "    mp4_name = gif_name.split('.')[0] + '.mp4'\n",
        "    clip.write_videofile(os.path.join(output_folder, mp4_name), fps=25, audio=False, ffmpeg_params=['-crf', '17'])\n",
        "    total_done = total_done + 1\n",
        "  else:\n",
        "    total_files = total_files - 1\n",
        "\n",
        "print('\\n')\n",
        "print(\"===> Conversion finished\",'\\n')\n",
        "print(\"===> \", total_done, \" files converted.\")"
      ]
    },
    {
      "cell_type": "markdown",
      "metadata": {
        "id": "yfDKNQNeeLhx"
      },
      "source": [
        "## 5. Download Results in zip file"
      ]
    },
    {
      "cell_type": "markdown",
      "metadata": {
        "id": "TqNdGeIf1cc8"
      },
      "source": [
        "<p align=\"justify\">Download the Zip package of mp4 files:</p>"
      ]
    },
    {
      "cell_type": "code",
      "execution_count": null,
      "metadata": {
        "id": "e6aqVu631k01",
        "colab": {
          "base_uri": "https://localhost:8080/",
          "height": 332
        },
        "outputId": "44d574f9-1ff5-4c5b-b150-881d088ec1ac"
      },
      "outputs": [
        {
          "output_type": "error",
          "ename": "FileNotFoundError",
          "evalue": "ignored",
          "traceback": [
            "\u001b[0;31m---------------------------------------------------------------------------\u001b[0m",
            "\u001b[0;31mFileNotFoundError\u001b[0m                         Traceback (most recent call last)",
            "\u001b[0;32m<ipython-input-26-77b652790005>\u001b[0m in \u001b[0;36m<cell line: 6>\u001b[0;34m()\u001b[0m\n\u001b[1;32m      4\u001b[0m \u001b[0;34m\u001b[0m\u001b[0m\n\u001b[1;32m      5\u001b[0m \u001b[0mos\u001b[0m\u001b[0;34m.\u001b[0m\u001b[0msystem\u001b[0m\u001b[0;34m(\u001b[0m\u001b[0;34mf\"zip -r -j {zip_filename} {output_folder}/*\"\u001b[0m\u001b[0;34m)\u001b[0m\u001b[0;34m\u001b[0m\u001b[0;34m\u001b[0m\u001b[0m\n\u001b[0;32m----> 6\u001b[0;31m \u001b[0mfiles\u001b[0m\u001b[0;34m.\u001b[0m\u001b[0mdownload\u001b[0m\u001b[0;34m(\u001b[0m\u001b[0mzip_filename\u001b[0m\u001b[0;34m)\u001b[0m\u001b[0;34m\u001b[0m\u001b[0;34m\u001b[0m\u001b[0m\n\u001b[0m",
            "\u001b[0;32m/usr/local/lib/python3.10/dist-packages/google/colab/files.py\u001b[0m in \u001b[0;36mdownload\u001b[0;34m(filename)\u001b[0m\n\u001b[1;32m    223\u001b[0m   \u001b[0;32mif\u001b[0m \u001b[0;32mnot\u001b[0m \u001b[0m_os\u001b[0m\u001b[0;34m.\u001b[0m\u001b[0mpath\u001b[0m\u001b[0;34m.\u001b[0m\u001b[0mexists\u001b[0m\u001b[0;34m(\u001b[0m\u001b[0mfilename\u001b[0m\u001b[0;34m)\u001b[0m\u001b[0;34m:\u001b[0m\u001b[0;34m\u001b[0m\u001b[0;34m\u001b[0m\u001b[0m\n\u001b[1;32m    224\u001b[0m     \u001b[0mmsg\u001b[0m \u001b[0;34m=\u001b[0m \u001b[0;34m'Cannot find file: {}'\u001b[0m\u001b[0;34m.\u001b[0m\u001b[0mformat\u001b[0m\u001b[0;34m(\u001b[0m\u001b[0mfilename\u001b[0m\u001b[0;34m)\u001b[0m\u001b[0;34m\u001b[0m\u001b[0;34m\u001b[0m\u001b[0m\n\u001b[0;32m--> 225\u001b[0;31m     \u001b[0;32mraise\u001b[0m \u001b[0mFileNotFoundError\u001b[0m\u001b[0;34m(\u001b[0m\u001b[0mmsg\u001b[0m\u001b[0;34m)\u001b[0m  \u001b[0;31m# pylint: disable=undefined-variable\u001b[0m\u001b[0;34m\u001b[0m\u001b[0;34m\u001b[0m\u001b[0m\n\u001b[0m\u001b[1;32m    226\u001b[0m \u001b[0;34m\u001b[0m\u001b[0m\n\u001b[1;32m    227\u001b[0m   \u001b[0mcomm_manager\u001b[0m \u001b[0;34m=\u001b[0m \u001b[0m_IPython\u001b[0m\u001b[0;34m.\u001b[0m\u001b[0mget_ipython\u001b[0m\u001b[0;34m(\u001b[0m\u001b[0;34m)\u001b[0m\u001b[0;34m.\u001b[0m\u001b[0mkernel\u001b[0m\u001b[0;34m.\u001b[0m\u001b[0mcomm_manager\u001b[0m\u001b[0;34m\u001b[0m\u001b[0;34m\u001b[0m\u001b[0m\n",
            "\u001b[0;31mFileNotFoundError\u001b[0m: Cannot find file: gifs_converted.zip"
          ]
        }
      ],
      "source": [
        "zip_filename = 'gifs_converted.zip'\n",
        "if os.path.exists(zip_filename):\n",
        "  os.remove(zip_filename)\n",
        "\n",
        "os.system(f\"zip -r -j {zip_filename} {output_folder}/*\")\n",
        "files.download(zip_filename)"
      ]
    }
  ],
  "metadata": {
    "colab": {
      "provenance": [],
      "include_colab_link": true
    },
    "kernelspec": {
      "display_name": "Python 3",
      "name": "python3"
    }
  },
  "nbformat": 4,
  "nbformat_minor": 0
}